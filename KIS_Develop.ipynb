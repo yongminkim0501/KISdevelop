{
  "nbformat": 4,
  "nbformat_minor": 0,
  "metadata": {
    "colab": {
      "provenance": [],
      "authorship_tag": "ABX9TyPRlyu1da2vSF205CVy/g8b",
      "include_colab_link": true
    },
    "kernelspec": {
      "name": "python3",
      "display_name": "Python 3"
    },
    "language_info": {
      "name": "python"
    }
  },
  "cells": [
    {
      "cell_type": "markdown",
      "metadata": {
        "id": "view-in-github",
        "colab_type": "text"
      },
      "source": [
        "<a href=\"https://colab.research.google.com/github/yongminkim0501/KISdeveloper/blob/main/KIS_Develop.ipynb\" target=\"_parent\"><img src=\"https://colab.research.google.com/assets/colab-badge.svg\" alt=\"Open In Colab\"/></a>"
      ]
    },
    {
      "cell_type": "code",
      "execution_count": 2,
      "metadata": {
        "id": "IxbiHbwERw4g",
        "colab": {
          "base_uri": "https://localhost:8080/"
        },
        "outputId": "1e629390-5505-4cdb-e0cf-1e24a02fe71b"
      },
      "outputs": [
        {
          "output_type": "stream",
          "name": "stdout",
          "text": [
            "Mounted at /content/drive\n"
          ]
        }
      ],
      "source": [
        "from google.colab import drive\n",
        "drive.mount('/content/drive')"
      ]
    },
    {
      "cell_type": "code",
      "source": [
        " from pykis import KisAuth\n",
        "\n",
        "#  auth = KisAuth(\n",
        "#      # HTS 로그인 ID  예) soju06\n",
        "#      id=\"hts 로그인 id 예시\",\n",
        "#      # 앱 키  예) Pa0knAM6JLAjIa93Miajz7ykJIXXXXXXXXXX\n",
        "#      appkey=\"앱키\",\n",
        "#      # 앱 시크릿 키  예) V9J3YGPE5q2ZRG5EgqnLHn7XqbJjzwXcNpvY . . .\n",
        "#      secretkey=\"생성한 시크릿 키\",\n",
        "#      # 앱 키와 연결된 계좌번호  예) 00000000-01\n",
        "#      account=\"계좌번호\",\n",
        "#      # 모의투자 여부\n",
        "#      virtual=False,\n",
        "#  )\n",
        "\n",
        "#  # 안전한 경로에 시크릿 키를 파일로 저장합니다.\n",
        "#  auth.save(\"시크릿키ex).json\")"
      ],
      "metadata": {
        "id": "3R9n2fusI72h"
      },
      "execution_count": 7,
      "outputs": []
    },
    {
      "cell_type": "code",
      "source": [
        "from pykis import PyKis, KisAuth\n",
        "\n",
        "# 실전투자용 PyKis 객체를 생성합니다.\n",
        "kis = PyKis(\"secret.json\", keep_token=True)\n",
        "kis = PyKis(KisAuth.load(\"secret.json\"), keep_token=True)"
      ],
      "metadata": {
        "id": "gALIctMZLPfW"
      },
      "execution_count": 8,
      "outputs": []
    },
    {
      "cell_type": "code",
      "source": [
        "from pykis import KisQuote\n",
        "\n",
        "stock = kis.stock(\"\")\n",
        "\n",
        "quote: KisQuote = stock.quote()\n",
        "quote: KisQuote = stock.quote(extended = True)\n",
        "\n",
        "print(quote)\n",
        "\n",
        "''' # quote 로 불러올 경우의 데이터 셋\n",
        "KisForeignQuote(\n",
        "    symbol='NVDA',\n",
        "    market='NASDAQ',\n",
        "    name='엔비디아',\n",
        "    sector_name='반도체 및 반도체장비',\n",
        "    volume=134980,\n",
        "    amount=19539630,\n",
        "    market_cap=3554723500000,\n",
        "    indicator=KisForeignIndicator(\n",
        "        eps=2.54,\n",
        "        bps=2.69,\n",
        "        per=56.11,\n",
        "        pbr=52.97,\n",
        "        week52_high=152.8795,\n",
        "        week52_low=45.3991,\n",
        "        week52_high_date='2024-11-21',\n",
        "        week52_low_date='2023-12-06'\n",
        "    ),\n",
        "    open=144.44,\n",
        "    high=145.2,\n",
        "    low=144.37,\n",
        "    close=145.15,\n",
        "    change=0.09,\n",
        "    unit=1,\n",
        "    tick=0.01,\n",
        "    risk='none',\n",
        "    halt=False,\n",
        "    overbought=False\n",
        ")\n",
        "'''"
      ],
      "metadata": {
        "id": "9QSfTuHaLpMu"
      },
      "execution_count": null,
      "outputs": []
    },
    {
      "cell_type": "code",
      "source": [
        "from pykis import KisBalance\n",
        "account = kis.account()\n",
        "\n",
        "balance: KisBalance = account.balance()"
      ],
      "metadata": {
        "id": "i2fZ-ZSjNq1y"
      },
      "execution_count": 14,
      "outputs": []
    }
  ]
}