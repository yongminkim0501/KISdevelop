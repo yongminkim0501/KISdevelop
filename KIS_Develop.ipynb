{
  "nbformat": 4,
  "nbformat_minor": 0,
  "metadata": {
    "colab": {
      "provenance": [],
      "authorship_tag": "ABX9TyOBsFvxqVVS6ZrAfI/mEszw",
      "include_colab_link": true
    },
    "kernelspec": {
      "name": "python3",
      "display_name": "Python 3"
    },
    "language_info": {
      "name": "python"
    }
  },
  "cells": [
    {
      "cell_type": "markdown",
      "metadata": {
        "id": "view-in-github",
        "colab_type": "text"
      },
      "source": [
        "<a href=\"https://colab.research.google.com/github/yongminkim0501/KISdevelop/blob/main/KIS_Develop.ipynb\" target=\"_parent\"><img src=\"https://colab.research.google.com/assets/colab-badge.svg\" alt=\"Open In Colab\"/></a>"
      ]
    },
    {
      "cell_type": "code",
      "execution_count": 2,
      "metadata": {
        "id": "IxbiHbwERw4g",
        "colab": {
          "base_uri": "https://localhost:8080/"
        },
        "outputId": "1e629390-5505-4cdb-e0cf-1e24a02fe71b"
      },
      "outputs": [
        {
          "output_type": "stream",
          "name": "stdout",
          "text": [
            "Mounted at /content/drive\n"
          ]
        }
      ],
      "source": [
        "from google.colab import drive\n",
        "drive.mount('/content/drive')"
      ]
    },
    {
      "cell_type": "code",
      "source": [
        " from pykis import KisAuth\n",
        "\n",
        "#  auth = KisAuth(\n",
        "#      # HTS 로그인 ID  예) soju06\n",
        "#      id=\"hts 로그인 id 예시\",\n",
        "#      # 앱 키  예) Pa0knAM6JLAjIa93Miajz7ykJIXXXXXXXXXX\n",
        "#      appkey=\"앱키\",\n",
        "#      # 앱 시크릿 키  예) V9J3YGPE5q2ZRG5EgqnLHn7XqbJjzwXcNpvY . . .\n",
        "#      secretkey=\"생성한 시크릿 키\",\n",
        "#      # 앱 키와 연결된 계좌번호  예) 00000000-01\n",
        "#      account=\"계좌번호\",\n",
        "#      # 모의투자 여부\n",
        "#      virtual=False,\n",
        "#  )\n",
        "\n",
        "#  # 안전한 경로에 시크릿 키를 파일로 저장합니다.\n",
        "#  auth.save(\"시크릿키ex).json\")"
      ],
      "metadata": {
        "id": "3R9n2fusI72h"
      },
      "execution_count": 7,
      "outputs": []
    },
    {
      "cell_type": "code",
      "source": [
        "from pykis import KisQuote\n",
        "from pykis import PyKis, KisAuth\n",
        "\n",
        "# 실전투자용 PyKis 객체를 생성합니다.\n",
        "kis = PyKis(\"secret.json\", keep_token=True)\n",
        "kis = PyKis(KisAuth.load(\"secret.json\"), keep_token=True)\n",
        "\n",
        "def search_stock(name):\n",
        "  stock = kis.stock(name)\n",
        "  quote: KisQuote = stock.quote()\n",
        "  quote: KisQuote = stock.quote(extended = True)\n",
        "  return quote\n",
        "\n",
        "\n",
        "s = search_stock(\"NVDA\")\n",
        "\n",
        "from pykis import KisBalance\n",
        "account = kis.account()\n",
        "\n",
        "balance: KisBalance = account.balance()"
      ],
      "metadata": {
        "id": "cN0dcGu4QzsQ"
      },
      "execution_count": null,
      "outputs": []
    },
    {
      "cell_type": "code",
      "source": [
        "from pykis import KisQuote\n",
        "from pykis import PyKis, KisAuth, KisBalance\n",
        "\n",
        "class KIS:\n",
        "  def __init__ (self):\n",
        "    self.token = None\n",
        "    self.stock = None\n",
        "    self.account = None\n",
        "    self.Kis = None\n",
        "    self.account = None\n",
        "\n",
        "  def connect_token(self, token_name):\n",
        "    self.Kis = PyKis(token_name, keep_token=True)\n",
        "    self.Kis = PyKis(KisAuth.load(token_name),keep_token=True)\n",
        "\n",
        "  def search_stock(self, name):\n",
        "    self.stock = kis.stock(name)\n",
        "    quote: KisQuote = self.stock.quote()\n",
        "    quote: KisQuote = self.stock.quote(extended = True)\n",
        "    print(quote)\n",
        "    return quote\n",
        "\n",
        "  def connect_account(self):\n",
        "    self.account = kis.account()\n",
        "    balance: KisBalance = self.account.balance()\n",
        "    print(repr(balance))\n",
        "    return balance\n",
        "\n",
        "k = KIS()\n",
        "k.connect_token(\"secret.json\")\n",
        "k.search_stock('NVDA')\n",
        "k.connect_account()"
      ],
      "metadata": {
        "id": "PzKexhg2R6Yt"
      },
      "execution_count": null,
      "outputs": []
    },
    {
      "cell_type": "markdown",
      "source": [
        "balance :, quote : 이런 형태의 문법은 타입 형태에 대해서 힌트를 주는 문법임."
      ],
      "metadata": {
        "id": "wT69u_6EUN3S"
      }
    },
    {
      "cell_type": "code",
      "source": [],
      "metadata": {
        "id": "gALIctMZLPfW"
      },
      "execution_count": 8,
      "outputs": []
    },
    {
      "cell_type": "code",
      "source": [],
      "metadata": {
        "id": "9QSfTuHaLpMu"
      },
      "execution_count": null,
      "outputs": []
    },
    {
      "cell_type": "code",
      "source": [],
      "metadata": {
        "id": "i2fZ-ZSjNq1y"
      },
      "execution_count": 14,
      "outputs": []
    }
  ]
}