{
  "nbformat": 4,
  "nbformat_minor": 0,
  "metadata": {
    "colab": {
      "provenance": [],
      "authorship_tag": "ABX9TyNrKG9KTkQgOq2bQSPCcCn6",
      "include_colab_link": true
    },
    "kernelspec": {
      "name": "python3",
      "display_name": "Python 3"
    },
    "language_info": {
      "name": "python"
    }
  },
  "cells": [
    {
      "cell_type": "markdown",
      "metadata": {
        "id": "view-in-github",
        "colab_type": "text"
      },
      "source": [
        "<a href=\"https://colab.research.google.com/github/yongminkim0501/KISdevelop/blob/main/KIS_Develop.ipynb\" target=\"_parent\"><img src=\"https://colab.research.google.com/assets/colab-badge.svg\" alt=\"Open In Colab\"/></a>"
      ]
    },
    {
      "cell_type": "code",
      "execution_count": 1,
      "metadata": {
        "id": "IxbiHbwERw4g",
        "colab": {
          "base_uri": "https://localhost:8080/"
        },
        "outputId": "363391b2-4c6c-4131-c55d-7e0fd0e43fc3"
      },
      "outputs": [
        {
          "output_type": "stream",
          "name": "stdout",
          "text": [
            "Mounted at /content/drive\n"
          ]
        }
      ],
      "source": [
        "from google.colab import drive\n",
        "drive.mount('/content/drive')"
      ]
    },
    {
      "cell_type": "code",
      "source": [
        "pip install python-kis"
      ],
      "metadata": {
        "colab": {
          "base_uri": "https://localhost:8080/"
        },
        "id": "VGuqs_fbHMkA",
        "outputId": "c9e50d15-879c-4502-f82a-b1aaffc8cefb"
      },
      "execution_count": 2,
      "outputs": [
        {
          "output_type": "stream",
          "name": "stdout",
          "text": [
            "Collecting python-kis\n",
            "  Downloading python_kis-2.1.3-py3-none-any.whl.metadata (20 kB)\n",
            "Requirement already satisfied: requests>=2.32.3 in /usr/local/lib/python3.10/dist-packages (from python-kis) (2.32.3)\n",
            "Requirement already satisfied: websocket-client>=1.8.0 in /usr/local/lib/python3.10/dist-packages (from python-kis) (1.8.0)\n",
            "Requirement already satisfied: cryptography>=43.0.0 in /usr/local/lib/python3.10/dist-packages (from python-kis) (43.0.3)\n",
            "Collecting colorlog>=6.8.2 (from python-kis)\n",
            "  Downloading colorlog-6.9.0-py3-none-any.whl.metadata (10 kB)\n",
            "Requirement already satisfied: cffi>=1.12 in /usr/local/lib/python3.10/dist-packages (from cryptography>=43.0.0->python-kis) (1.17.1)\n",
            "Requirement already satisfied: charset-normalizer<4,>=2 in /usr/local/lib/python3.10/dist-packages (from requests>=2.32.3->python-kis) (3.4.0)\n",
            "Requirement already satisfied: idna<4,>=2.5 in /usr/local/lib/python3.10/dist-packages (from requests>=2.32.3->python-kis) (3.10)\n",
            "Requirement already satisfied: urllib3<3,>=1.21.1 in /usr/local/lib/python3.10/dist-packages (from requests>=2.32.3->python-kis) (2.2.3)\n",
            "Requirement already satisfied: certifi>=2017.4.17 in /usr/local/lib/python3.10/dist-packages (from requests>=2.32.3->python-kis) (2024.8.30)\n",
            "Requirement already satisfied: pycparser in /usr/local/lib/python3.10/dist-packages (from cffi>=1.12->cryptography>=43.0.0->python-kis) (2.22)\n",
            "Downloading python_kis-2.1.3-py3-none-any.whl (148 kB)\n",
            "\u001b[2K   \u001b[90m━━━━━━━━━━━━━━━━━━━━━━━━━━━━━━━━━━━━━━━━\u001b[0m \u001b[32m148.4/148.4 kB\u001b[0m \u001b[31m9.0 MB/s\u001b[0m eta \u001b[36m0:00:00\u001b[0m\n",
            "\u001b[?25hDownloading colorlog-6.9.0-py3-none-any.whl (11 kB)\n",
            "Installing collected packages: colorlog, python-kis\n",
            "Successfully installed colorlog-6.9.0 python-kis-2.1.3\n"
          ]
        }
      ]
    },
    {
      "cell_type": "code",
      "source": [
        "cd /content/drive/MyDrive/kis_programming"
      ],
      "metadata": {
        "colab": {
          "base_uri": "https://localhost:8080/"
        },
        "id": "o6pVFiFiIIO7",
        "outputId": "d0ede8b4-4639-4a20-f02e-a2bca6fa0440"
      },
      "execution_count": 3,
      "outputs": [
        {
          "output_type": "stream",
          "name": "stdout",
          "text": [
            "/content/drive/MyDrive/kis_programming\n"
          ]
        }
      ]
    },
    {
      "cell_type": "code",
      "source": [
        "from pykis import PyKis, KisAuth, KisBalance,KisQuote\n",
        "class private_kis:\n",
        "  def __init__(self):\n",
        "    self.token = None\n",
        "    self.kis = None\n",
        "\n",
        "  def connect_token(self, token_path):\n",
        "    self.kis = PyKis(token_path, keep_token = True)\n",
        "    self.kis = PyKis(KisAuth.load(token_path), keep_token = True)\n",
        "    token_kis = self.kis\n",
        "    return token_kis # 연결된 객체를 반환함\n",
        "\n",
        "class private_account:\n",
        "  def __init__(self, kis):\n",
        "    self.account = None\n",
        "    self.Kis = kis\n",
        "\n",
        "  def connect_account(self):\n",
        "    self.account = self.Kis.account()\n",
        "    balance: KisBalance = self.account.balance()\n",
        "    return balance\n",
        "\n",
        "class KIS_stock:\n",
        "  def __init__ (self, kis):\n",
        "    self.stock = None\n",
        "    self.kis = kis # connect_token 에서 반환된 연결된 token임\n",
        "\n",
        "  def connect_stock(self, name):\n",
        "    self.stock = self.kis.stock(name) # name 에 해당하는 주식과 객체를 연결함.\n",
        "\n",
        "  def search_stock(self):\n",
        "    quote: KisQuote = self.stock.quote() # name으로 저장된 주식을 반환함\n",
        "    quote: KisQuote = self.stock.quote(extended = True)\n",
        "    return quote"
      ],
      "metadata": {
        "id": "Ch17HYM4Hfqc"
      },
      "execution_count": 12,
      "outputs": []
    },
    {
      "cell_type": "code",
      "source": [
        "p_kis = private_kis()\n",
        "p_stock = p_kis.connect_token('secret.json') #json 파일로 저장된 secret key를 통해 api 연결"
      ],
      "metadata": {
        "id": "3R9n2fusI72h"
      },
      "execution_count": 38,
      "outputs": []
    },
    {
      "cell_type": "code",
      "source": [
        "kis_stock = KIS_stock(p_stock)\n",
        "kis_stock.connect_stock('NVDA') # 연결된 api를 통해서 stock 객체 생성, 예시로 nvidia\n",
        "q = kis_stock.search_stock() # 아까 생성된 객체를 검색함, 해당 정보를 반환,"
      ],
      "metadata": {
        "id": "QS6EHAYMKjdm"
      },
      "execution_count": null,
      "outputs": []
    },
    {
      "cell_type": "code",
      "source": [
        "p_account = private_account(p_stock)\n",
        "p_account.connect_account() # 실제 계좌를 연결시"
      ],
      "metadata": {
        "id": "qNoqySToKnx3"
      },
      "execution_count": null,
      "outputs": []
    },
    {
      "cell_type": "code",
      "source": [
        "sp100_tickers = [\n",
        "    \"AAPL\",\n",
        "    # \"MSFT\", \"AMZN\",\n",
        "    # \"TSLA\", \"NVDA\", \"META\", \"JNJ\", \"GOOGL\"\n",
        "]\n",
        "    # , \"V\"\n",
        "    # \"XOM\", \"PG\", \"CVX\", \"PFE\", \"KO\", \"INTC\", \"WMT\", \"MCD\", \"PEP\", \"HD\", \"ABBV\", ]\n",
        "#     \"VZ\", \"ABT\", \"CRM\", \"DIS\", \"NKE\", \"MRK\", \"BMY\", \"TXN\", \"LMT\", \"ORCL\", \"AMGN\",\n",
        "#     \"CVS\", \"HON\", \"UNH\", \"GE\", \"MMM\", \"GS\", \"CAT\", \"MDT\", \"NKE\", \"HD\", \"PFE\",\n",
        "#     \"BLK\", \"MS\", \"CL\", \"RTX\", \"JCI\", \"GM\", \"BA\", \"LLY\", \"NEE\", \"D\", \"TMUS\",\n",
        "#     \"AXP\", \"PM\", \"COP\", \"LUMN\", \"SPGI\", \"IBM\", \"SCHW\", \"MCD\", \"HSY\", \"BIIB\",\n",
        "#     \"AMD\", \"TMUS\", \"BMY\", \"LLY\", \"CI\", \"MS\", \"HPE\", \"MAR\", \"DAL\", \"AIG\",\n",
        "#     \"UPS\", \"SYY\", \"CI\", \"SLB\", \"CTSH\", \"CTVA\", \"MOS\", \"ILMN\", \"EXC\", \"DIS\",\n",
        "#     \"ANTM\", \"BLK\", \"KR\", \"LLY\", \"REGN\", \"LUMN\", \"QCOM\", \"GD\", \"AZN\", \"WFC\",\n",
        "#     \"C\", \"LMT\", \"CB\", \"ANTM\", \"AMT\", \"WM\"\n",
        "# ]\n",
        "# kis_stock = KIS_stock(p_stock)\n",
        "# kis_stock.connect_stock('NVDA') # 연결된 api를 통해서 stock 객체 생성, 예시로 nvidia\n",
        "# q = kis_stock.search_stock() # 아까 생성된 객체를 검색함, 해당 정보를 반환,\n",
        "# print(q.indicator.per)\n",
        "\n",
        "# not_bad = []\n",
        "json = []\n",
        "\n",
        "for name in sp100_tickers:\n",
        "  kis_stock = KIS_stock(p_stock)\n",
        "  kis_stock.connect_stock(name)\n",
        "  stock_data = kis_stock.search_stock()\n",
        "  dic_data = {\n",
        "    \"NAME\":stock_data.name,\n",
        "    \"PER\":float(stock_data.indicator.per),\n",
        "    \"PBR\":float(stock_data.indicator.pbr),\n",
        "    \"eps\":float(stock_data.indicator.eps),\n",
        "    \"bps\":float(stock_data.indicator.bps)\n",
        "  }\n",
        "  print(dic_data)\n",
        "  json.append(dic_data)\n",
        "  # print(stock_data.name)\n",
        "  # stock_data.indicator.per\n",
        "#   if stock_data.indicator.per > 50:\n",
        "#     not_bad.append(name)\n",
        "# print(not_bad)\n",
        "for dic_data in json:\n",
        "  if dic_data['NAME'] == '애플':\n",
        "    print(dic_data)\n",
        "\n"
      ],
      "metadata": {
        "id": "cN0dcGu4QzsQ",
        "colab": {
          "base_uri": "https://localhost:8080/"
        },
        "outputId": "945c66eb-e899-49fa-a0ec-f804fdde67cc"
      },
      "execution_count": 42,
      "outputs": [
        {
          "output_type": "stream",
          "name": "stdout",
          "text": [
            "{'NAME': '애플', 'PER': 40.82, 'PBR': 65.77, 'eps': 6.07, 'bps': 3.77}\n",
            "{'NAME': '애플', 'PER': 40.82, 'PBR': 65.77, 'eps': 6.07, 'bps': 3.77}\n"
          ]
        }
      ]
    },
    {
      "cell_type": "code",
      "source": [],
      "metadata": {
        "id": "PzKexhg2R6Yt"
      },
      "execution_count": null,
      "outputs": []
    },
    {
      "cell_type": "code",
      "source": [],
      "metadata": {
        "id": "gALIctMZLPfW"
      },
      "execution_count": null,
      "outputs": []
    },
    {
      "cell_type": "code",
      "source": [],
      "metadata": {
        "id": "9QSfTuHaLpMu"
      },
      "execution_count": null,
      "outputs": []
    },
    {
      "cell_type": "code",
      "source": [],
      "metadata": {
        "id": "i2fZ-ZSjNq1y"
      },
      "execution_count": null,
      "outputs": []
    }
  ]
}