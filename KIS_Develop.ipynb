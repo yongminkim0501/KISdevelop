{
  "nbformat": 4,
  "nbformat_minor": 0,
  "metadata": {
    "colab": {
      "provenance": [],
      "authorship_tag": "ABX9TyNN5JoIPxBhzfxOAcFEpOrQ",
      "include_colab_link": true
    },
    "kernelspec": {
      "name": "python3",
      "display_name": "Python 3"
    },
    "language_info": {
      "name": "python"
    }
  },
  "cells": [
    {
      "cell_type": "markdown",
      "metadata": {
        "id": "view-in-github",
        "colab_type": "text"
      },
      "source": [
        "<a href=\"https://colab.research.google.com/github/yongminkim0501/KISdevelop/blob/main/KIS_Develop.ipynb\" target=\"_parent\"><img src=\"https://colab.research.google.com/assets/colab-badge.svg\" alt=\"Open In Colab\"/></a>"
      ]
    },
    {
      "cell_type": "code",
      "execution_count": 1,
      "metadata": {
        "id": "IxbiHbwERw4g",
        "colab": {
          "base_uri": "https://localhost:8080/"
        },
        "outputId": "58c45bde-51f1-43de-bc0f-17cab53d4c2d"
      },
      "outputs": [
        {
          "output_type": "stream",
          "name": "stdout",
          "text": [
            "Drive already mounted at /content/drive; to attempt to forcibly remount, call drive.mount(\"/content/drive\", force_remount=True).\n"
          ]
        }
      ],
      "source": [
        "from google.colab import drive\n",
        "drive.mount('/content/drive')"
      ]
    },
    {
      "cell_type": "code",
      "source": [
        "pip install python-kis"
      ],
      "metadata": {
        "colab": {
          "base_uri": "https://localhost:8080/"
        },
        "id": "VGuqs_fbHMkA",
        "outputId": "ab478a07-4393-46af-da62-a883a90b0477"
      },
      "execution_count": 2,
      "outputs": [
        {
          "output_type": "stream",
          "name": "stdout",
          "text": [
            "Requirement already satisfied: python-kis in /usr/local/lib/python3.10/dist-packages (2.1.2)\n",
            "Requirement already satisfied: requests>=2.32.3 in /usr/local/lib/python3.10/dist-packages (from python-kis) (2.32.3)\n",
            "Requirement already satisfied: websocket-client>=1.8.0 in /usr/local/lib/python3.10/dist-packages (from python-kis) (1.8.0)\n",
            "Requirement already satisfied: cryptography>=43.0.0 in /usr/local/lib/python3.10/dist-packages (from python-kis) (43.0.3)\n",
            "Requirement already satisfied: colorlog>=6.8.2 in /usr/local/lib/python3.10/dist-packages (from python-kis) (6.9.0)\n",
            "Requirement already satisfied: cffi>=1.12 in /usr/local/lib/python3.10/dist-packages (from cryptography>=43.0.0->python-kis) (1.17.1)\n",
            "Requirement already satisfied: charset-normalizer<4,>=2 in /usr/local/lib/python3.10/dist-packages (from requests>=2.32.3->python-kis) (3.4.0)\n",
            "Requirement already satisfied: idna<4,>=2.5 in /usr/local/lib/python3.10/dist-packages (from requests>=2.32.3->python-kis) (3.10)\n",
            "Requirement already satisfied: urllib3<3,>=1.21.1 in /usr/local/lib/python3.10/dist-packages (from requests>=2.32.3->python-kis) (2.2.3)\n",
            "Requirement already satisfied: certifi>=2017.4.17 in /usr/local/lib/python3.10/dist-packages (from requests>=2.32.3->python-kis) (2024.8.30)\n",
            "Requirement already satisfied: pycparser in /usr/local/lib/python3.10/dist-packages (from cffi>=1.12->cryptography>=43.0.0->python-kis) (2.22)\n"
          ]
        }
      ]
    },
    {
      "cell_type": "code",
      "source": [
        "cd /content/drive/MyDrive/kis_programming"
      ],
      "metadata": {
        "colab": {
          "base_uri": "https://localhost:8080/"
        },
        "id": "o6pVFiFiIIO7",
        "outputId": "ae93936a-c5f8-432a-c00a-97fd629059f3"
      },
      "execution_count": 6,
      "outputs": [
        {
          "output_type": "stream",
          "name": "stdout",
          "text": [
            "/content/drive/MyDrive/kis_programming\n"
          ]
        }
      ]
    },
    {
      "cell_type": "code",
      "source": [
        "from pykis import PyKis, KisAuth, KisBalance,KisQuote\n",
        "class private_kis:\n",
        "  def __init__(self):\n",
        "    self.token = None\n",
        "    self.kis = None\n",
        "\n",
        "  def connect_token(self, token_path):\n",
        "    self.kis = PyKis(token_path, keep_token = True)\n",
        "    self.kis = PyKis(KisAuth.load(token_path), keep_token = True)\n",
        "    token_kis = self.kis\n",
        "    return token_kis\n",
        "\n",
        "class private_account:\n",
        "  def __init__(self, kis):\n",
        "    self.account = None\n",
        "    self.Kis = kis\n",
        "\n",
        "  def connect_account(self):\n",
        "    self.account = self.Kis.account()\n",
        "    balance: KisBalance = self.account.balance()\n",
        "    return balance\n",
        "\n",
        "class KIS_stock:\n",
        "  def __init__ (self, kis):\n",
        "    self.stock = None\n",
        "    self.kis = kis\n",
        "\n",
        "  def connect_stock(self, name):\n",
        "    self.stock = self.kis.stock(name)\n",
        "\n",
        "  def search_stock(self):\n",
        "    quote: KisQuote = self.stock.quote()\n",
        "    quote: KisQuote = self.stock.quote(extended = True)\n",
        "    return quote\n",
        "\n",
        "\n",
        "p_kis = private_kis()\n",
        "p_stock = p_kis.connect_token('secret.json') #json 파일로 저장된 secret key를 통해 api 연결\n",
        "kis_stock = KIS_stock(p_stock)\n",
        "kis_stock.connect_stock('NVDA') # 연결된 api를 통해서 stock 객체 생성, 예시로 nvidia\n",
        "kis_stock.search_stock() # 아까 생성된 객체를 검색함, 해당 정보를 반환,\n",
        "p_account = private_account(p_stock)\n",
        "p_account.connect_account() # 실제 계좌를 연결시"
      ],
      "metadata": {
        "colab": {
          "base_uri": "https://localhost:8080/"
        },
        "id": "Ch17HYM4Hfqc",
        "outputId": "f98e7f09-f19e-4671-b0b7-c91e3382ecb3"
      },
      "execution_count": 23,
      "outputs": [
        {
          "output_type": "stream",
          "name": "stdout",
          "text": [
            "KisForeignQuote(\n",
            "    symbol='NVDA',\n",
            "    market='NASDAQ',\n",
            "    name='엔비디아',\n",
            "    sector_name='반도체 및 반도체장비',\n",
            "    volume=99345,\n",
            "    amount=14105202,\n",
            "    market_cap=3473416700000,\n",
            "    indicator=KisForeignIndicator(\n",
            "        eps=2.54,\n",
            "        bps=2.69,\n",
            "        per=56.11,\n",
            "        pbr=52.97,\n",
            "        week52_high=152.8795,\n",
            "        week52_low=45.3991,\n",
            "        week52_high_date='2024-11-21',\n",
            "        week52_low_date='2023-12-06'\n",
            "    ),\n",
            "    open=141.93,\n",
            "    high=142.26,\n",
            "    low=141.67,\n",
            "    close=141.83,\n",
            "    change=-0.61,\n",
            "    unit=1,\n",
            "    tick=0.01,\n",
            "    risk='none',\n",
            "    halt=False,\n",
            "    overbought=False\n",
            ")\n"
          ]
        }
      ]
    },
    {
      "cell_type": "code",
      "source": [],
      "metadata": {
        "id": "3R9n2fusI72h"
      },
      "execution_count": null,
      "outputs": []
    },
    {
      "cell_type": "code",
      "source": [],
      "metadata": {
        "id": "cN0dcGu4QzsQ"
      },
      "execution_count": null,
      "outputs": []
    },
    {
      "cell_type": "code",
      "source": [],
      "metadata": {
        "id": "PzKexhg2R6Yt"
      },
      "execution_count": null,
      "outputs": []
    },
    {
      "cell_type": "code",
      "source": [],
      "metadata": {
        "id": "gALIctMZLPfW"
      },
      "execution_count": null,
      "outputs": []
    },
    {
      "cell_type": "code",
      "source": [],
      "metadata": {
        "id": "9QSfTuHaLpMu"
      },
      "execution_count": null,
      "outputs": []
    },
    {
      "cell_type": "code",
      "source": [],
      "metadata": {
        "id": "i2fZ-ZSjNq1y"
      },
      "execution_count": null,
      "outputs": []
    }
  ]
}